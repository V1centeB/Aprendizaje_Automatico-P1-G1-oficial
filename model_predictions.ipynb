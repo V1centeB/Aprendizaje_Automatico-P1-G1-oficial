{
 "cells": [
  {
   "cell_type": "markdown",
   "metadata": {},
   "source": [
    "Aprendizaje Automático - Práctica 1\n",
    "Autores: RICARDO ANTONIO PAZOS VALERO - 100472303 / VICENTE ANTONIO BARBATO - 10043114"
   ]
  },
  {
   "cell_type": "markdown",
   "metadata": {},
   "source": [
    "# 5. Evaluación modelo seleccionado\n",
    "### Apartado D: Predicciones sobre datos de competición"
   ]
  },
  {
   "cell_type": "code",
   "execution_count": 1,
   "metadata": {},
   "outputs": [],
   "source": [
    "# Importamos\n",
    "from joblib import load\n",
    "import pandas as pd\n",
    "import numpy as np\n",
    "\n",
    "# Cargamos datos\n",
    "data = pd.read_csv('data/wind_comp.csv')\n",
    "\n",
    "# Filtramos los datos para ver solo los datos metereológicos obtenidos para Sotavento - excluimos datetime\n",
    "data_filter = [columna for columna in data.columns if columna.endswith('.13')]\n",
    "data_sotavento = data[data_filter]\n",
    "\n",
    "# Cargamos el modelo final\n",
    "final_model = load('modelo_final.pkl')\n",
    "\n",
    "# Hacemos las predicciones\n",
    "predictions = final_model.predict(data_sotavento)\n",
    "\n",
    "# Especificamos un path para el fichero .csv de predicciones\n",
    "predictions_csv_path = 'predicciones.csv'\n",
    "\n",
    "# Guardamos las predicciones en un fichero .csv\n",
    "np.savetxt(predictions_csv_path, predictions, delimiter=',', fmt='%f', header='Predicted Energy', comments='')\n"
   ]
  }
 ],
 "metadata": {
  "kernelspec": {
   "display_name": "Python 3",
   "language": "python",
   "name": "python3"
  },
  "language_info": {
   "codemirror_mode": {
    "name": "ipython",
    "version": 3
   },
   "file_extension": ".py",
   "mimetype": "text/x-python",
   "name": "python",
   "nbconvert_exporter": "python",
   "pygments_lexer": "ipython3",
   "version": "3.12.2"
  }
 },
 "nbformat": 4,
 "nbformat_minor": 2
}
