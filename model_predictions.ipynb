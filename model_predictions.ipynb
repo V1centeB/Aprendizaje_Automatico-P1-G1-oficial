{
 "cells": [
  {
   "cell_type": "markdown",
   "metadata": {},
   "source": [
    "Aprendizaje Automático - Práctica 1\n",
    "Autores: RICARDO ANTONIO PAZOS VALERO - 100472303 / VICENTE ANTONIO BARBATO - 10043114"
   ]
  },
  {
   "cell_type": "code",
   "execution_count": null,
   "metadata": {},
   "outputs": [],
   "source": [
    "# Importamos\n",
    "from joblib import dump\n",
    "import pandas as pd\n",
    "\n",
    "# Cargamos datos\n",
    "data = pd.read_csv('data/wind_comp.csv')\n",
    "\n",
    "# Cargamos el modelo final\n",
    "final_model = load('modelo_final.pkl')"
   ]
  }
 ],
 "metadata": {
  "language_info": {
   "name": "python"
  }
 },
 "nbformat": 4,
 "nbformat_minor": 2
}
