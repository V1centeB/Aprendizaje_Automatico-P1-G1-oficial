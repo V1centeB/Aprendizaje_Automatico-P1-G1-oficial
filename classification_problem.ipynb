{
 "cells": [
  {
   "cell_type": "markdown",
   "metadata": {},
   "source": [
    "Aprendizaje Automático - Práctica 1\n",
    "Autores: RICARDO ANTONIO PAZOS VALERO - 100472303 / VICENTE ANTONIO BARBATO - 10043114"
   ]
  },
  {
   "cell_type": "markdown",
   "metadata": {},
   "source": [
    "# 6. Problema de clasificación"
   ]
  },
  {
   "cell_type": "markdown",
   "metadata": {},
   "source": [
    "### Primera Parte: Usar modelo final para comprobar predicciones de valores altos y valores bajos"
   ]
  },
  {
   "cell_type": "code",
   "execution_count": 5,
   "metadata": {},
   "outputs": [
    {
     "name": "stdout",
     "output_type": "stream",
     "text": [
      "Métricas - Energía alta:\n",
      "MAE: 683.7764569877376\n",
      "MSE: 632524.6271455635\n",
      "R^2: -2.956877450284961\n",
      "\n",
      "Métricas - Energía baja:\n",
      "MAE: 345.8537427064807\n",
      "MSE: 185738.59314795886\n",
      "R^2: -0.8795894043467756\n"
     ]
    }
   ],
   "source": [
    "# Importamos\n",
    "from joblib import load\n",
    "import pandas as pd\n",
    "import numpy as np\n",
    "from sklearn.metrics import mean_absolute_error, mean_squared_error, r2_score\n",
    "\n",
    "# Cargamos datos\n",
    "data = pd.read_csv('data/wind_ava.csv')\n",
    "\n",
    "# Cargamos el modelo final\n",
    "final_model = load('modelo_final.pkl')\n",
    "\n",
    "# Filtramos los datos para ver solo los datos metereológicos obtenidos para Sotavento \n",
    "data_filter = [columna for columna in data.columns if columna.endswith('.13') or columna == \"energy\"]\n",
    "data_sotavento = data[data_filter]\n",
    "data_sotavento = data_sotavento.copy()  # Hacemos una copia de los datospara evitar el SettingWithCopyWarning\n",
    "\n",
    "# Definimos el tercer cuantil\n",
    "energy_tq = data_sotavento['energy'].quantile(0.75)\n",
    "\n",
    "# Creamos una nueva variable target - la definimos como una variable binaria (más fácil de trabajar con variables binarias)\n",
    "# 1 - Clase alta\n",
    "# 2 - Clase baja\n",
    "data_sotavento['energy_level'] = (data_sotavento['energy'] > energy_tq).astype(int)\n",
    "\n",
    "# Hacemos las predicciones con el modelo final\n",
    "predictions = final_model.predict(data_sotavento.drop(columns=['energy', 'energy_level']))\n",
    "\n",
    "# Separamos los datos en dos subsets de energía alta o energía baja\n",
    "high_energy = data_sotavento[data_sotavento['energy_level'] == 1]\n",
    "low_energy = data_sotavento[data_sotavento['energy_level'] == 0]\n",
    "\n",
    "# Hacemos predicciones para cada subset por separado\n",
    "high_energy_predictions = predictions[high_energy.index]\n",
    "low_energy_predictions = predictions[low_energy.index]\n",
    "\n",
    "# Evaluamos el modelo en cada subset por separado\n",
    "high_energy_mae = mean_absolute_error(high_energy['energy'], high_energy_predictions)\n",
    "high_energy_mse = mean_squared_error(high_energy['energy'], high_energy_predictions)\n",
    "high_energy_r2 = r2_score(high_energy['energy'], high_energy_predictions)\n",
    "\n",
    "low_energy_mae = mean_absolute_error(low_energy['energy'], low_energy_predictions)\n",
    "low_energy_mse = mean_squared_error(low_energy['energy'], low_energy_predictions)\n",
    "low_energy_r2 = r2_score(low_energy['energy'], low_energy_predictions)\n",
    "\n",
    "# Comparamos métricas\n",
    "print(\"Métricas - Energía alta:\")\n",
    "print(\"MAE:\", high_energy_mae)\n",
    "print(\"MSE:\", high_energy_mse)\n",
    "print(\"R^2:\", high_energy_r2)\n",
    "\n",
    "print(\"\\nMétricas - Energía baja:\")\n",
    "print(\"MAE:\", low_energy_mae)\n",
    "print(\"MSE:\", low_energy_mse)\n",
    "print(\"R^2:\", low_energy_r2)"
   ]
  },
  {
   "cell_type": "markdown",
   "metadata": {},
   "source": [
    "Observamos que tenemos mejores resultados en las predicciones de los valores de energía bajos"
   ]
  },
  {
   "cell_type": "markdown",
   "metadata": {},
   "source": [
    "### Segunda Parte: Cambiar a un modelo de clasificación"
   ]
  }
 ],
 "metadata": {
  "kernelspec": {
   "display_name": "Python 3",
   "language": "python",
   "name": "python3"
  },
  "language_info": {
   "codemirror_mode": {
    "name": "ipython",
    "version": 3
   },
   "file_extension": ".py",
   "mimetype": "text/x-python",
   "name": "python",
   "nbconvert_exporter": "python",
   "pygments_lexer": "ipython3",
   "version": "3.12.2"
  }
 },
 "nbformat": 4,
 "nbformat_minor": 2
}
