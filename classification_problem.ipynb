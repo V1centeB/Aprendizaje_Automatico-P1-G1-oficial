{
 "cells": [
  {
   "cell_type": "markdown",
   "metadata": {},
   "source": [
    "Aprendizaje Automático - Práctica 1\n",
    "Autores: RICARDO ANTONIO PAZOS VALERO - 100472303 / VICENTE ANTONIO BARBATO - 10043114"
   ]
  },
  {
   "cell_type": "markdown",
   "metadata": {},
   "source": [
    "# 6. Problema de clasificación"
   ]
  },
  {
   "cell_type": "markdown",
   "metadata": {},
   "source": [
    "### Primera Parte: Usar modelo final para comprobar predicciones de valores altos y valores bajos"
   ]
  },
  {
   "cell_type": "code",
   "execution_count": 10,
   "metadata": {},
   "outputs": [
    {
     "name": "stdout",
     "output_type": "stream",
     "text": [
      "Métricas - Energía alta:\n",
      "MAE: 683.7764569877376\n",
      "MSE: 632524.6271455635\n",
      "R^2: -2.956877450284961\n",
      "\n",
      "Métricas - Energía baja:\n",
      "MAE: 345.8537427064807\n",
      "MSE: 185738.59314795886\n",
      "R^2: -0.8795894043467756\n"
     ]
    }
   ],
   "source": [
    "# Importamos\n",
    "from joblib import load\n",
    "import pandas as pd\n",
    "import numpy as np\n",
    "from sklearn.metrics import mean_absolute_error, mean_squared_error, r2_score\n",
    "\n",
    "# Cargamos datos\n",
    "data = pd.read_csv('data/wind_ava.csv')\n",
    "\n",
    "# Cargamos el modelo final\n",
    "final_model = load('modelo_final.pkl')\n",
    "\n",
    "# Filtramos los datos para ver solo los datos metereológicos obtenidos para Sotavento \n",
    "data_filter = [columna for columna in data.columns if columna.endswith('.13') or columna == \"energy\"]\n",
    "data_sotavento = data[data_filter]\n",
    "data_sotavento = data_sotavento.copy()  # Hacemos una copia de los datos para evitar el SettingWithCopyWarning\n",
    "\n",
    "# Definimos el tercer cuantil\n",
    "energy_tq = data_sotavento['energy'].quantile(0.75)\n",
    "\n",
    "# Creamos una nueva variable target - la definimos como una variable binaria (más fácil de trabajar con variables binarias)\n",
    "# Clase alta = 1\n",
    "# Clase baja = 0\n",
    "data_sotavento['energy_level'] = (data_sotavento['energy'] > energy_tq).astype(int)\n",
    "\n",
    "# Hacemos las predicciones con el modelo final\n",
    "predictions = final_model.predict(data_sotavento.drop(columns=['energy', 'energy_level']))\n",
    "\n",
    "# Separamos los datos en dos subsets de energía alta o energía baja\n",
    "high_energy = data_sotavento[data_sotavento['energy_level'] == 1]\n",
    "low_energy = data_sotavento[data_sotavento['energy_level'] == 0]\n",
    "\n",
    "# Hacemos predicciones para cada subset por separado\n",
    "high_energy_predictions = predictions[high_energy.index]\n",
    "low_energy_predictions = predictions[low_energy.index]\n",
    "\n",
    "# Evaluamos el modelo en cada subset por separado\n",
    "high_energy_mae = mean_absolute_error(high_energy['energy'], high_energy_predictions)\n",
    "high_energy_mse = mean_squared_error(high_energy['energy'], high_energy_predictions)\n",
    "high_energy_r2 = r2_score(high_energy['energy'], high_energy_predictions)\n",
    "\n",
    "low_energy_mae = mean_absolute_error(low_energy['energy'], low_energy_predictions)\n",
    "low_energy_mse = mean_squared_error(low_energy['energy'], low_energy_predictions)\n",
    "low_energy_r2 = r2_score(low_energy['energy'], low_energy_predictions)\n",
    "\n",
    "# Comparamos métricas\n",
    "print(\"Métricas - Energía alta:\")\n",
    "print(\"MAE:\", high_energy_mae)\n",
    "print(\"MSE:\", high_energy_mse)\n",
    "print(\"R^2:\", high_energy_r2)\n",
    "\n",
    "print(\"\\nMétricas - Energía baja:\")\n",
    "print(\"MAE:\", low_energy_mae)\n",
    "print(\"MSE:\", low_energy_mse)\n",
    "print(\"R^2:\", low_energy_r2)"
   ]
  },
  {
   "cell_type": "markdown",
   "metadata": {},
   "source": [
    "Observamos que tenemos mejores resultados en las predicciones de los valores de energía bajos"
   ]
  },
  {
   "cell_type": "markdown",
   "metadata": {},
   "source": [
    "### Segunda Parte: Cambiar a un modelo de clasificación\n",
    "Para el problema de clasificación elegimos el DecisionTreeClassifier. Nos interesa utilizar su hiper-parámetro \"weight_class\" para poder lidiar con el desbalanceo de las clases"
   ]
  },
  {
   "cell_type": "code",
   "execution_count": 11,
   "metadata": {},
   "outputs": [
    {
     "name": "stdout",
     "output_type": "stream",
     "text": [
      "Accuracy: 0.8366305041480536\n",
      "Precision-Recall: 0.6744186046511628\n",
      "F1: 0.6709511568123393\n",
      "ROC AUC: 0.7821245565628694\n",
      "\n"
     ]
    }
   ],
   "source": [
    "# Importamos\n",
    "from sklearn.pipeline import Pipeline\n",
    "from sklearn.tree import DecisionTreeClassifier\n",
    "from sklearn.model_selection import train_test_split\n",
    "from sklearn.metrics import accuracy_score, recall_score, f1_score, roc_auc_score\n",
    "from sklearn.preprocessing import StandardScaler\n",
    "\n",
    "# Para simplificar nuestro set de datos, ahora con la variable de energía \"alta\" = 1 o \"baja\" = 0, borramos la variable \"energy\"\n",
    "data_sotavento = data_sotavento.drop(columns=['energy'])\n",
    "\n",
    "# Definimos nuestro data (atributos meteorolócios) y nuestro target (clase de energía)\n",
    "X, y = data_sotavento.filter(regex=\".13\"), data_sotavento.energy_level\n",
    "\n",
    "# Hacemos un split de los datos\n",
    "X_train, X_test, y_train, y_test = train_test_split(X, y, test_size=0.33, random_state=100472303)\n",
    "\n",
    "# Hacemos nuestro pipeline\n",
    "clf = Pipeline([\n",
    "    ('scaler', StandardScaler()),\n",
    "    ('Decision Tree', DecisionTreeClassifier(class_weight='balanced', random_state=100472303))\n",
    "])\n",
    "\n",
    "# Fit\n",
    "clf.fit(X_train, y_train)\n",
    "\n",
    "# Predict\n",
    "y_pred = clf.predict(X_test)\n",
    "\n",
    "# Calculamos métricas\n",
    "accuracy = accuracy_score(y_test, y_pred)\n",
    "precision_recall = recall_score(y_test, y_pred)\n",
    "f1 = f1_score(y_test, y_pred)\n",
    "roc_auc = roc_auc_score(y_test, y_pred)\n",
    "\n",
    "# Imprimimos resultados\n",
    "print(f\"Accuracy: {accuracy}\\nPrecision-Recall: {precision_recall}\\nF1: {f1}\\nROC AUC: {roc_auc}\\n\")"
   ]
  }
 ],
 "metadata": {
  "kernelspec": {
   "display_name": "Python 3",
   "language": "python",
   "name": "python3"
  },
  "language_info": {
   "codemirror_mode": {
    "name": "ipython",
    "version": 3
   },
   "file_extension": ".py",
   "mimetype": "text/x-python",
   "name": "python",
   "nbconvert_exporter": "python",
   "pygments_lexer": "ipython3",
   "version": "3.12.2"
  }
 },
 "nbformat": 4,
 "nbformat_minor": 2
}
